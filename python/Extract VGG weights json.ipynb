{
 "cells": [
  {
   "cell_type": "code",
   "execution_count": 4,
   "metadata": {},
   "outputs": [
    {
     "name": "stderr",
     "output_type": "stream",
     "text": [
      "Downloading: \"https://download.pytorch.org/models/vgg16_bn-6c64b313.pth\" to C:\\Users\\sanga/.cache\\torch\\checkpoints\\vgg16_bn-6c64b313.pth\n",
      "100%|███████████████████████████████████████████████████████████████| 553507836/553507836 [01:31<00:00, 6067139.83it/s]\n"
     ]
    }
   ],
   "source": [
    "import torch\n",
    "import torchvision.models as models\n",
    "\n",
    "\n",
    "vgg16 = models.vgg16(pretrained=True)"
   ]
  },
  {
   "cell_type": "code",
   "execution_count": 2,
   "metadata": {
    "scrolled": true
   },
   "outputs": [
    {
     "name": "stdout",
     "output_type": "stream",
     "text": [
      "file did not exisist\n",
      "saving features.0.weight\n",
      "saving features.0.bias\n",
      "saving features.2.weight\n",
      "saving features.2.bias\n",
      "saving features.5.weight\n",
      "saving features.5.bias\n",
      "saving features.7.weight\n",
      "saving features.7.bias\n",
      "saving features.10.weight\n",
      "saving features.10.bias\n",
      "saving features.12.weight\n",
      "saving features.12.bias\n",
      "saving features.14.weight\n",
      "saving features.14.bias\n",
      "saving features.17.weight\n",
      "saving features.17.bias\n",
      "saving features.19.weight\n",
      "saving features.19.bias\n",
      "saving features.21.weight\n",
      "saving features.21.bias\n",
      "saving features.24.weight\n",
      "saving features.24.bias\n",
      "saving features.26.weight\n",
      "saving features.26.bias\n",
      "saving features.28.weight\n",
      "saving features.28.bias\n",
      "saving classifier.0.weight\n",
      "saving classifier.0.bias\n",
      "saving classifier.3.weight\n",
      "saving classifier.3.bias\n",
      "saving classifier.6.weight\n",
      "saving classifier.6.bias\n"
     ]
    }
   ],
   "source": [
    "import numpy as np\n",
    "import os\n",
    "filename = \"../weights/vgg16-weights.bin\"\n",
    "try:\n",
    "    os.remove(filename)\n",
    "except:\n",
    "    print(\"file did not exisist\")\n",
    "f = open(filename, 'wb')\n",
    "for k, v in vgg16.state_dict().items():\n",
    "    print(\"saving \"+k)\n",
    "    v.require_grad = False\n",
    "    binary_format = v.numpy().tobytes('C')\n",
    "    f.write(binary_format)\n",
    "f.close()"
   ]
  },
  {
   "cell_type": "code",
   "execution_count": 6,
   "metadata": {},
   "outputs": [
    {
     "name": "stdout",
     "output_type": "stream",
     "text": [
      "features.0.weight   torch.float32   torch.Size([64, 3, 3, 3])\n",
      "features.0.bias   torch.float32   torch.Size([64])\n",
      "features.2.weight   torch.float32   torch.Size([64, 64, 3, 3])\n",
      "features.2.bias   torch.float32   torch.Size([64])\n",
      "features.5.weight   torch.float32   torch.Size([128, 64, 3, 3])\n",
      "features.5.bias   torch.float32   torch.Size([128])\n",
      "features.7.weight   torch.float32   torch.Size([128, 128, 3, 3])\n",
      "features.7.bias   torch.float32   torch.Size([128])\n",
      "features.10.weight   torch.float32   torch.Size([256, 128, 3, 3])\n",
      "features.10.bias   torch.float32   torch.Size([256])\n",
      "features.12.weight   torch.float32   torch.Size([256, 256, 3, 3])\n",
      "features.12.bias   torch.float32   torch.Size([256])\n",
      "features.14.weight   torch.float32   torch.Size([256, 256, 3, 3])\n",
      "features.14.bias   torch.float32   torch.Size([256])\n",
      "features.17.weight   torch.float32   torch.Size([512, 256, 3, 3])\n",
      "features.17.bias   torch.float32   torch.Size([512])\n",
      "features.19.weight   torch.float32   torch.Size([512, 512, 3, 3])\n",
      "features.19.bias   torch.float32   torch.Size([512])\n",
      "features.21.weight   torch.float32   torch.Size([512, 512, 3, 3])\n",
      "features.21.bias   torch.float32   torch.Size([512])\n",
      "features.24.weight   torch.float32   torch.Size([512, 512, 3, 3])\n",
      "features.24.bias   torch.float32   torch.Size([512])\n",
      "features.26.weight   torch.float32   torch.Size([512, 512, 3, 3])\n",
      "features.26.bias   torch.float32   torch.Size([512])\n",
      "features.28.weight   torch.float32   torch.Size([512, 512, 3, 3])\n",
      "features.28.bias   torch.float32   torch.Size([512])\n",
      "classifier.0.weight   torch.float32   torch.Size([4096, 25088])\n",
      "classifier.0.bias   torch.float32   torch.Size([4096])\n",
      "classifier.3.weight   torch.float32   torch.Size([4096, 4096])\n",
      "classifier.3.bias   torch.float32   torch.Size([4096])\n",
      "classifier.6.weight   torch.float32   torch.Size([1000, 4096])\n",
      "classifier.6.bias   torch.float32   torch.Size([1000])\n"
     ]
    }
   ],
   "source": [
    "for k, v in vgg16.state_dict().items():\n",
    "    print(k, \" \", v.dtype, \" \",v.shape)"
   ]
  }
 ],
 "metadata": {
  "kernelspec": {
   "display_name": "Python 3",
   "language": "python",
   "name": "python3"
  },
  "language_info": {
   "codemirror_mode": {
    "name": "ipython",
    "version": 3
   },
   "file_extension": ".py",
   "mimetype": "text/x-python",
   "name": "python",
   "nbconvert_exporter": "python",
   "pygments_lexer": "ipython3",
   "version": "3.7.3"
  }
 },
 "nbformat": 4,
 "nbformat_minor": 2
}
